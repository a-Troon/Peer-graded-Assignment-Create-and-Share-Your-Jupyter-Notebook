{
 "cells": [
  {
   "cell_type": "markdown",
   "metadata": {},
   "source": [
    "<center>\n",
    "    <img src=\"https://s3-api.us-geo.objectstorage.softlayer.net/cf-courses-data/CognitiveClass/Logos/organization_logo/organization_logo.png\" width=\"300\" alt=\"cognitiveclass.ai logo\"  />\n",
    "</center>\n"
   ]
  },
  {
   "cell_type": "markdown",
   "metadata": {},
   "source": [
    "#### Add your code below following the instructions given in the course\n"
   ]
  },
  {
   "cell_type": "markdown",
   "metadata": {},
   "source": [
    "# \"My Jupyter Notebook on IBM Watson Studio\""
   ]
  },
  {
   "cell_type": "markdown",
   "metadata": {},
   "source": [
    "**Azza I. Atroon**\n",
    "Data Science Engineer"
   ]
  },
  {
   "cell_type": "markdown",
   "metadata": {},
   "source": [
    "*I am interested in Data Science, because I want to be apart of climate change, and developing the environment! I am very excited about relief and prevention of natural disaters.* "
   ]
  },
  {
   "cell_type": "markdown",
   "metadata": {},
   "source": [
    "### 1+1 My code will use addition to find the solution "
   ]
  },
  {
   "cell_type": "code",
   "execution_count": 2,
   "metadata": {},
   "outputs": [
    {
     "data": {
      "text/plain": [
       "2"
      ]
     },
     "execution_count": 2,
     "metadata": {},
     "output_type": "execute_result"
    }
   ],
   "source": [
    "1+1"
   ]
  },
  {
   "cell_type": "markdown",
   "metadata": {},
   "source": [
    "***How can data analytics strengthen early warning systems and support relief efforts for communities in need?***\n",
    "***Data and analytics can support relief and response initiatives for communities in need.***  \n",
    "~~From the use of satellite images_ -  _crowd-sourced mapping tools to predict and help prepare for disasters -  on-the-ground reports from drone footage, emergency responders,\n",
    "governments and non-government organizations (NGOs) are adopting data analytics as a critical tool to strengthen early warning systems and aid relief efforts in the aftermath of a disastrous event.~~\n",
    "********************\n",
    "Data and analytics can support relief and response initiatives for communities in need. From the use of satellite images and crowd-sourced mapping tools to predict and help prepare for disasters, to on-the-ground reports from drone footage, emergency responders, governments and non-government organisations (NGOs) are adopting data analytics as a critical tool to strengthen early warning systems and aid relief efforts in the aftermath of a disastrous event.\n",
    "\n",
    "\n",
    "[external link text](https://expectexceptional.economist.com/improving-disaster-response-efforts-through-data.html)\n",
    "\n"
   ]
  },
  {
   "cell_type": "code",
   "execution_count": null,
   "metadata": {},
   "outputs": [],
   "source": []
  }
 ],
 "metadata": {
  "kernelspec": {
   "display_name": "Python",
   "language": "python",
   "name": "conda-env-python-py"
  },
  "language_info": {
   "codemirror_mode": {
    "name": "ipython",
    "version": 3
   },
   "file_extension": ".py",
   "mimetype": "text/x-python",
   "name": "python",
   "nbconvert_exporter": "python",
   "pygments_lexer": "ipython3",
   "version": "3.7.12"
  }
 },
 "nbformat": 4,
 "nbformat_minor": 4
}
